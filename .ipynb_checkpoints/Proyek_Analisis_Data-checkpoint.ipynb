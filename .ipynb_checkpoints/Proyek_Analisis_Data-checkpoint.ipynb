{
 "cells": [
  {
   "cell_type": "markdown",
   "metadata": {
    "id": "H9wADwK78DCz"
   },
   "source": [
    "# Proyek Analisis Data: E-Commerce Public Dataset\n",
    "- **Nama:** Ahmad Rehan Al Fariz\n",
    "- **Email:** alfarizahmadrehan@gmail.com\n",
    "- **ID Dicoding:** Ahmad Rehan Al Fariz"
   ]
  },
  {
   "cell_type": "markdown",
   "metadata": {
    "id": "eE0raob58DC0"
   },
   "source": [
    "## Menentukan Pertanyaan Bisnis"
   ]
  },
  {
   "cell_type": "markdown",
   "metadata": {
    "id": "GmQeQ5YF8DC0"
   },
   "source": [
    "- Pertanyaan 1\n",
    "Kategori produk mana yang memiliki rating tertinggi yang memiliki minimal 5% pesanan dari pesanan total\n",
    "- Pertanyaan 2\n",
    "Kategori produk apa saja yang memiliki penjualan terendah"
   ]
  },
  {
   "cell_type": "markdown",
   "metadata": {
    "id": "H-z4QGlO8DC1"
   },
   "source": [
    "## Import Semua Packages/Library yang Digunakan"
   ]
  },
  {
   "cell_type": "code",
   "execution_count": 1,
   "metadata": {
    "id": "FVYwaObI8DC1"
   },
   "outputs": [],
   "source": [
    "import pandas as pd         # Untuk manipulasi dan analisis data\n",
    "import numpy as np          # Untuk operasi numerik\n",
    "import matplotlib.pyplot as plt  # Untuk visualisasi data\n",
    "import seaborn as sns       # Untuk visualisasi statistik\n",
    "import re"
   ]
  },
  {
   "cell_type": "markdown",
   "metadata": {
    "id": "h_Sh51Xy8DC1"
   },
   "source": [
    "## Data Wrangling"
   ]
  },
  {
   "cell_type": "markdown",
   "metadata": {
    "id": "sXU2GBYu8DC1"
   },
   "source": [
    "### Gathering Data"
   ]
  },
  {
   "cell_type": "code",
   "execution_count": 2,
   "metadata": {
    "id": "zjCBk1BI8DC1"
   },
   "outputs": [
    {
     "name": "stdout",
     "output_type": "stream",
     "text": [
      "CSV baru telah dibuat: merged_data.csv\n"
     ]
    }
   ],
   "source": [
    "# Membaca CSV\n",
    "order_reviews = pd.read_csv('data/order_reviews_dataset.csv')\n",
    "order_items = pd.read_csv('data/order_items_dataset.csv')\n",
    "products = pd.read_csv('data/products_dataset.csv')\n",
    "category_translation = pd.read_csv('data/product_category_name_translation.csv')\n",
    "\n",
    "# Menggabungkan dataset\n",
    "# Pertama, gabungkan order_reviews dengan order_items\n",
    "merged = pd.merge(order_reviews, order_items, on='order_id')\n",
    "\n",
    "# Kemudian, gabungkan hasil dengan products\n",
    "merged = pd.merge(merged, products, on='product_id')\n",
    "\n",
    "# Terakhir, gabungkan dengan category_translation\n",
    "final_merged = pd.merge(merged, category_translation, on='product_category_name', how='left')\n",
    "\n",
    "# Memilih kolom yang dibutuhkan untuk analisis, termasuk review_id dan order_item_id\n",
    "final_merged = final_merged[['review_id', 'order_id', 'order_item_id', 'product_id', 'review_score','shipping_limit_date', 'price', 'product_category_name', 'product_category_name_english']]\n",
    "\n",
    "# Menyimpan hasil gabungan ke file CSV baru\n",
    "final_merged.to_csv('data/merged_data.csv', index=False)\n",
    "\n",
    "print(\"CSV baru telah dibuat: merged_data.csv\")\n"
   ]
  },
  {
   "cell_type": "code",
   "execution_count": 3,
   "metadata": {},
   "outputs": [],
   "source": [
    "df = pd.read_csv('data/merged_data.csv')"
   ]
  },
  {
   "cell_type": "markdown",
   "metadata": {
    "id": "MMi6xGaDkbCi"
   },
   "source": [
    "**Insight:**\n",
    "- Memuat dataset yang dibutuhkan dan mengambil kolom masing-masing csv sesuai tujuannya\n",
    "- Menyatukan menjadi 1 csv beri nama merged_data.csv"
   ]
  },
  {
   "cell_type": "markdown",
   "metadata": {
    "id": "FHSiqaZp8DC1"
   },
   "source": [
    "### Assessing Data"
   ]
  },
  {
   "cell_type": "code",
   "execution_count": 4,
   "metadata": {},
   "outputs": [
    {
     "data": {
      "text/html": [
       "<div>\n",
       "<style scoped>\n",
       "    .dataframe tbody tr th:only-of-type {\n",
       "        vertical-align: middle;\n",
       "    }\n",
       "\n",
       "    .dataframe tbody tr th {\n",
       "        vertical-align: top;\n",
       "    }\n",
       "\n",
       "    .dataframe thead th {\n",
       "        text-align: right;\n",
       "    }\n",
       "</style>\n",
       "<table border=\"1\" class=\"dataframe\">\n",
       "  <thead>\n",
       "    <tr style=\"text-align: right;\">\n",
       "      <th></th>\n",
       "      <th>review_id</th>\n",
       "      <th>order_id</th>\n",
       "      <th>order_item_id</th>\n",
       "      <th>product_id</th>\n",
       "      <th>review_score</th>\n",
       "      <th>shipping_limit_date</th>\n",
       "      <th>price</th>\n",
       "      <th>product_category_name</th>\n",
       "      <th>product_category_name_english</th>\n",
       "    </tr>\n",
       "  </thead>\n",
       "  <tbody>\n",
       "    <tr>\n",
       "      <th>0</th>\n",
       "      <td>7bc2406110b926393aa56f80a40eba40</td>\n",
       "      <td>73fc7af87114b39712e6da79b0a377eb</td>\n",
       "      <td>1</td>\n",
       "      <td>fd25ab760bfbba13c198fa3b4f1a0cd3</td>\n",
       "      <td>4</td>\n",
       "      <td>2018-01-18 15:47:59</td>\n",
       "      <td>185.00</td>\n",
       "      <td>esporte_lazer</td>\n",
       "      <td>sports_leisure</td>\n",
       "    </tr>\n",
       "    <tr>\n",
       "      <th>1</th>\n",
       "      <td>7bc2406110b926393aa56f80a40eba40</td>\n",
       "      <td>73fc7af87114b39712e6da79b0a377eb</td>\n",
       "      <td>2</td>\n",
       "      <td>fd25ab760bfbba13c198fa3b4f1a0cd3</td>\n",
       "      <td>4</td>\n",
       "      <td>2018-01-18 15:47:59</td>\n",
       "      <td>185.00</td>\n",
       "      <td>esporte_lazer</td>\n",
       "      <td>sports_leisure</td>\n",
       "    </tr>\n",
       "    <tr>\n",
       "      <th>2</th>\n",
       "      <td>80e641a11e56f04c1ad469d5645fdfde</td>\n",
       "      <td>a548910a1c6147796b98fdf73dbeba33</td>\n",
       "      <td>1</td>\n",
       "      <td>be0dbdc3d67d55727a65d4cd696ca73c</td>\n",
       "      <td>5</td>\n",
       "      <td>2018-03-06 12:48:39</td>\n",
       "      <td>79.79</td>\n",
       "      <td>informatica_acessorios</td>\n",
       "      <td>computers_accessories</td>\n",
       "    </tr>\n",
       "    <tr>\n",
       "      <th>3</th>\n",
       "      <td>228ce5500dc1d8e020d8d1322874b6f0</td>\n",
       "      <td>f9e4b658b201a9f2ecdecbb34bed034b</td>\n",
       "      <td>1</td>\n",
       "      <td>d1c427060a0f73f6b889a5c7c61f2ac4</td>\n",
       "      <td>5</td>\n",
       "      <td>2018-02-08 10:31:15</td>\n",
       "      <td>149.00</td>\n",
       "      <td>informatica_acessorios</td>\n",
       "      <td>computers_accessories</td>\n",
       "    </tr>\n",
       "    <tr>\n",
       "      <th>4</th>\n",
       "      <td>e64fb393e7b32834bb789ff8bb30750e</td>\n",
       "      <td>658677c97b385a9be170737859d3511b</td>\n",
       "      <td>1</td>\n",
       "      <td>52c80cedd4e90108bf4fa6a206ef6b03</td>\n",
       "      <td>5</td>\n",
       "      <td>2017-04-13 17:55:19</td>\n",
       "      <td>179.99</td>\n",
       "      <td>ferramentas_jardim</td>\n",
       "      <td>garden_tools</td>\n",
       "    </tr>\n",
       "  </tbody>\n",
       "</table>\n",
       "</div>"
      ],
      "text/plain": [
       "                          review_id                          order_id  \\\n",
       "0  7bc2406110b926393aa56f80a40eba40  73fc7af87114b39712e6da79b0a377eb   \n",
       "1  7bc2406110b926393aa56f80a40eba40  73fc7af87114b39712e6da79b0a377eb   \n",
       "2  80e641a11e56f04c1ad469d5645fdfde  a548910a1c6147796b98fdf73dbeba33   \n",
       "3  228ce5500dc1d8e020d8d1322874b6f0  f9e4b658b201a9f2ecdecbb34bed034b   \n",
       "4  e64fb393e7b32834bb789ff8bb30750e  658677c97b385a9be170737859d3511b   \n",
       "\n",
       "   order_item_id                        product_id  review_score  \\\n",
       "0              1  fd25ab760bfbba13c198fa3b4f1a0cd3             4   \n",
       "1              2  fd25ab760bfbba13c198fa3b4f1a0cd3             4   \n",
       "2              1  be0dbdc3d67d55727a65d4cd696ca73c             5   \n",
       "3              1  d1c427060a0f73f6b889a5c7c61f2ac4             5   \n",
       "4              1  52c80cedd4e90108bf4fa6a206ef6b03             5   \n",
       "\n",
       "   shipping_limit_date   price   product_category_name  \\\n",
       "0  2018-01-18 15:47:59  185.00           esporte_lazer   \n",
       "1  2018-01-18 15:47:59  185.00           esporte_lazer   \n",
       "2  2018-03-06 12:48:39   79.79  informatica_acessorios   \n",
       "3  2018-02-08 10:31:15  149.00  informatica_acessorios   \n",
       "4  2017-04-13 17:55:19  179.99      ferramentas_jardim   \n",
       "\n",
       "  product_category_name_english  \n",
       "0                sports_leisure  \n",
       "1                sports_leisure  \n",
       "2         computers_accessories  \n",
       "3         computers_accessories  \n",
       "4                  garden_tools  "
      ]
     },
     "execution_count": 4,
     "metadata": {},
     "output_type": "execute_result"
    }
   ],
   "source": [
    "df.head()"
   ]
  },
  {
   "cell_type": "code",
   "execution_count": 5,
   "metadata": {},
   "outputs": [
    {
     "name": "stdout",
     "output_type": "stream",
     "text": [
      "<class 'pandas.core.frame.DataFrame'>\n",
      "RangeIndex: 112372 entries, 0 to 112371\n",
      "Data columns (total 9 columns):\n",
      " #   Column                         Non-Null Count   Dtype  \n",
      "---  ------                         --------------   -----  \n",
      " 0   review_id                      112372 non-null  object \n",
      " 1   order_id                       112372 non-null  object \n",
      " 2   order_item_id                  112372 non-null  int64  \n",
      " 3   product_id                     112372 non-null  object \n",
      " 4   review_score                   112372 non-null  int64  \n",
      " 5   shipping_limit_date            112372 non-null  object \n",
      " 6   price                          112372 non-null  float64\n",
      " 7   product_category_name          110774 non-null  object \n",
      " 8   product_category_name_english  110750 non-null  object \n",
      "dtypes: float64(1), int64(2), object(6)\n",
      "memory usage: 7.7+ MB\n"
     ]
    }
   ],
   "source": [
    "df.info()"
   ]
  },
  {
   "cell_type": "code",
   "execution_count": 6,
   "metadata": {
    "id": "ax-3tEjc9Cj1"
   },
   "outputs": [
    {
     "data": {
      "text/plain": [
       "review_id                           0\n",
       "order_id                            0\n",
       "order_item_id                       0\n",
       "product_id                          0\n",
       "review_score                        0\n",
       "shipping_limit_date                 0\n",
       "price                               0\n",
       "product_category_name            1598\n",
       "product_category_name_english    1622\n",
       "dtype: int64"
      ]
     },
     "execution_count": 6,
     "metadata": {},
     "output_type": "execute_result"
    }
   ],
   "source": [
    "df.isnull().sum() # Identifikasi missing value"
   ]
  },
  {
   "cell_type": "code",
   "execution_count": 7,
   "metadata": {},
   "outputs": [
    {
     "name": "stdout",
     "output_type": "stream",
     "text": [
      "                               review_id                          order_id  \\\n",
      "223     db168e3b1bb8b376934b2c5985cb3eda  4edd97a383a190e45e83c16cd6460d63   \n",
      "282     3ff8285931cc9b54c9ad22ba78957f63  e6b23db78d4473c921fb9315e04b5c0f   \n",
      "422     2e21bb397364fa799a4a1609fd2e6e3b  9d7f2c9f33008498700ffdc3162878fb   \n",
      "518     e5a35475f7efa7f6abac5febba3fb464  7dd12269fb63d70af90a488dc5e90876   \n",
      "560     004580d2657b221e45f84f4169675ecd  049ede3fc839758e81752a9dacd1f911   \n",
      "...                                  ...                               ...   \n",
      "111766  55024eda2c6b437f56af9f3b484e4163  5f0950844b0ba28b7a063457f7709df9   \n",
      "111881  7ba41d88901ae917762a7a0003d7ec8e  c36fe9947bce36c97cd3eb1a5c9303aa   \n",
      "112025  b720c9da14e97b0ffaa5119f9043b73a  e15fc1d42ce26a4f976cbe33878fd4d9   \n",
      "112239  27fc9a96ea09cf3b9ca9b49f61cda151  de6a3086bd8a8710b7fd7ab414be7d3e   \n",
      "112316  a2de0d3f01fb7d391b0bb9a872c5f004  d694c1f3e3e0bd20d4673555d43c875a   \n",
      "\n",
      "        order_item_id                        product_id  review_score  \\\n",
      "223                 1  df07d0388563ce1b87695a6ae85898da             5   \n",
      "282                 1  5c9ef6c35fdbad9275157b1929c37fb0             1   \n",
      "422                 1  d8dee61c2034d6d075997acef1870e9b             5   \n",
      "518                 1  6ad6cc284cdcc1cdd2f06eef8d983913             5   \n",
      "560                 1  6ab9d49c399f239bc88ea28c7568213f             5   \n",
      "...               ...                               ...           ...   \n",
      "111766              1  5a848e4ab52fd5445cdc07aab1c40e48             5   \n",
      "111881              1  ad88641611c35ebd59ecda07a9f17099             5   \n",
      "112025              1  76d1a1a9d21ab677a61c3ae34b1b352f             5   \n",
      "112239              1  1a1dba78177cbabf00a2e1eab46e62b6             4   \n",
      "112316              1  3b60d513e90300a4e9833e5cda1f1d61             5   \n",
      "\n",
      "        shipping_limit_date   price product_category_name  \\\n",
      "223     2018-02-26 07:27:28   13.30                   NaN   \n",
      "282     2017-04-26 21:01:54   12.50                   NaN   \n",
      "422     2017-09-01 13:15:16   99.77                   NaN   \n",
      "518     2018-04-12 19:08:32   34.90                   NaN   \n",
      "560     2018-08-10 04:35:12   12.99                   NaN   \n",
      "...                     ...     ...                   ...   \n",
      "111766  2017-12-14 14:09:42  122.99                   NaN   \n",
      "111881  2018-01-17 02:48:30  157.77                   NaN   \n",
      "112025  2018-07-09 12:30:42  139.77                   NaN   \n",
      "112239  2017-06-16 09:30:09   49.90                   NaN   \n",
      "112316  2018-03-15 03:50:34  159.77                   NaN   \n",
      "\n",
      "       product_category_name_english  \n",
      "223                              NaN  \n",
      "282                              NaN  \n",
      "422                              NaN  \n",
      "518                              NaN  \n",
      "560                              NaN  \n",
      "...                              ...  \n",
      "111766                           NaN  \n",
      "111881                           NaN  \n",
      "112025                           NaN  \n",
      "112239                           NaN  \n",
      "112316                           NaN  \n",
      "\n",
      "[1622 rows x 9 columns]\n"
     ]
    }
   ],
   "source": [
    "# Assuming your DataFrame is named df\n",
    "missing_values = df[df['product_category_name_english'].isnull()]\n",
    "\n",
    "# Display rows with missing values in 'product_category_name_english'\n",
    "print(missing_values)\n"
   ]
  },
  {
   "cell_type": "code",
   "execution_count": 8,
   "metadata": {},
   "outputs": [
    {
     "name": "stdout",
     "output_type": "stream",
     "text": [
      "Outliers dalam Review Score:\n",
      "Empty DataFrame\n",
      "Columns: [review_id, order_id, order_item_id, product_id, review_score, shipping_limit_date, price, product_category_name, product_category_name_english]\n",
      "Index: []\n",
      "Jumlah Outliers dalam Review Score: 0\n"
     ]
    }
   ],
   "source": [
    "# Mengidentifikasi outlier dalam review_score\n",
    "outliers = df[(df['review_score'] < 1) | (df['review_score'] > 5)]\n",
    "\n",
    "# Menghitung jumlah outlier\n",
    "num_outliers = outliers.shape[0]\n",
    "\n",
    "# Menampilkan outlier dan jumlahnya\n",
    "print(\"Outliers dalam Review Score:\")\n",
    "print(outliers)\n",
    "print(f\"Jumlah Outliers dalam Review Score: {num_outliers}\")"
   ]
  },
  {
   "cell_type": "code",
   "execution_count": 9,
   "metadata": {},
   "outputs": [
    {
     "name": "stdout",
     "output_type": "stream",
     "text": [
      "Jumlah duplikat berdasarkan order_id, product_id, order_item_id, dan review_id: 0\n",
      "Empty DataFrame\n",
      "Columns: [review_id, order_id, order_item_id, product_id, review_score, shipping_limit_date, price, product_category_name, product_category_name_english]\n",
      "Index: []\n"
     ]
    }
   ],
   "source": [
    "# Mencari duplikat berdasarkan order_id, product_id, order_item_id, dan review_id\n",
    "duplicates = final_merged[final_merged.duplicated(subset=['order_id', 'product_id', 'order_item_id', 'review_id'], keep=False)]\n",
    "\n",
    "# Menampilkan jumlah dan beberapa contoh duplikat\n",
    "print(\"Jumlah duplikat berdasarkan order_id, product_id, order_item_id, dan review_id:\", len(duplicates))\n",
    "print(duplicates.head())\n"
   ]
  },
  {
   "cell_type": "markdown",
   "metadata": {
    "id": "7dtxhAPrkhPL"
   },
   "source": [
    "**Insight:**\n",
    "- Ada 2 kolom yang memiliki missing value, product_category_name dan product_category_name_english. Berarti sebagian produk tidak bernama, untuk itu nanti akan diganti dengan \"Produk 1, Produk 2, dll\" supaya tetap berlabel. Dan juga ada sekitar 24 pesanan yang produknya tidak mempunyai terjemahan inggris\n",
    "- Tidak ditemukan outlier pada skor produk\n",
    "- Tidak ditemukan duplikat pada pesanan"
   ]
  },
  {
   "cell_type": "markdown",
   "metadata": {
    "id": "EhN5R4hr8DC1"
   },
   "source": [
    "### Cleaning Data"
   ]
  },
  {
   "cell_type": "code",
   "execution_count": 10,
   "metadata": {},
   "outputs": [],
   "source": [
    "df = pd.read_csv('data/merged_data.csv')"
   ]
  },
  {
   "cell_type": "code",
   "execution_count": 11,
   "metadata": {
    "id": "jVnYpprE9Evz"
   },
   "outputs": [
    {
     "name": "stdout",
     "output_type": "stream",
     "text": [
      "Data sebelum perubahan:\n",
      "                            review_id                          order_id  \\\n",
      "223  db168e3b1bb8b376934b2c5985cb3eda  4edd97a383a190e45e83c16cd6460d63   \n",
      "282  3ff8285931cc9b54c9ad22ba78957f63  e6b23db78d4473c921fb9315e04b5c0f   \n",
      "422  2e21bb397364fa799a4a1609fd2e6e3b  9d7f2c9f33008498700ffdc3162878fb   \n",
      "518  e5a35475f7efa7f6abac5febba3fb464  7dd12269fb63d70af90a488dc5e90876   \n",
      "560  004580d2657b221e45f84f4169675ecd  049ede3fc839758e81752a9dacd1f911   \n",
      "716  86b8f28757b213a5f9888c8f31f15dc5  8d48068c3ecbc21886a881562c96d7fa   \n",
      "726  3e0449b3abd6563eef3fab99a2e5a9ec  2efef48118e6846607240cd8910e05d0   \n",
      "879  c5976a5a98e854fb23d7e03c6754ae60  2002ea16e75277eaa0b5d78632048540   \n",
      "977  e384c4fe94ea5a6f3663cee2481e29b8  ee0a25ec12376692fee5a7d0613f466e   \n",
      "980  3b89940a3308eeaf4097a1ab47158928  6dcd6b86d6cddcf609cee72d0427d2da   \n",
      "\n",
      "     order_item_id                        product_id  review_score  \\\n",
      "223              1  df07d0388563ce1b87695a6ae85898da             5   \n",
      "282              1  5c9ef6c35fdbad9275157b1929c37fb0             1   \n",
      "422              1  d8dee61c2034d6d075997acef1870e9b             5   \n",
      "518              1  6ad6cc284cdcc1cdd2f06eef8d983913             5   \n",
      "560              1  6ab9d49c399f239bc88ea28c7568213f             5   \n",
      "716              1  4a411619ffbd1bb6180c44ca6e16639d             2   \n",
      "726              1  2f282449dadb2e59ff2afcde0bd9f393             5   \n",
      "879              1  a184d57c818939252af3b5400f55429a             5   \n",
      "977              1  3846c262ddb08db0ea2cc1a1685590ff             3   \n",
      "980              1  2873da054c3a30189c5aac7b87d3b6e9             4   \n",
      "\n",
      "     shipping_limit_date   price product_category_name  \\\n",
      "223  2018-02-26 07:27:28   13.30                   NaN   \n",
      "282  2017-04-26 21:01:54   12.50                   NaN   \n",
      "422  2017-09-01 13:15:16   99.77                   NaN   \n",
      "518  2018-04-12 19:08:32   34.90                   NaN   \n",
      "560  2018-08-10 04:35:12   12.99                   NaN   \n",
      "716  2017-09-13 21:24:21   23.00                   NaN   \n",
      "726  2017-02-23 23:20:45  212.00                   NaN   \n",
      "879  2017-07-26 22:30:10   15.00                   NaN   \n",
      "977  2017-05-31 22:33:13   35.00                   NaN   \n",
      "980  2018-05-21 15:14:38  185.00                   NaN   \n",
      "\n",
      "    product_category_name_english  \n",
      "223                           NaN  \n",
      "282                           NaN  \n",
      "422                           NaN  \n",
      "518                           NaN  \n",
      "560                           NaN  \n",
      "716                           NaN  \n",
      "726                           NaN  \n",
      "879                           NaN  \n",
      "977                           NaN  \n",
      "980                           NaN  \n",
      "\n",
      "Data setelah perubahan:\n",
      "                           product_id product_category_name  \\\n",
      "223  df07d0388563ce1b87695a6ae85898da              Produk 1   \n",
      "282  5c9ef6c35fdbad9275157b1929c37fb0              Produk 2   \n",
      "422  d8dee61c2034d6d075997acef1870e9b              Produk 3   \n",
      "518  6ad6cc284cdcc1cdd2f06eef8d983913              Produk 4   \n",
      "560  6ab9d49c399f239bc88ea28c7568213f              Produk 5   \n",
      "716  4a411619ffbd1bb6180c44ca6e16639d              Produk 6   \n",
      "726  2f282449dadb2e59ff2afcde0bd9f393              Produk 7   \n",
      "879  a184d57c818939252af3b5400f55429a              Produk 8   \n",
      "977  3846c262ddb08db0ea2cc1a1685590ff              Produk 9   \n",
      "980  2873da054c3a30189c5aac7b87d3b6e9             Produk 10   \n",
      "\n",
      "    product_category_name_english  \n",
      "223                      Produk 1  \n",
      "282                      Produk 2  \n",
      "422                      Produk 3  \n",
      "518                      Produk 4  \n",
      "560                      Produk 5  \n",
      "716                      Produk 6  \n",
      "726                      Produk 7  \n",
      "879                      Produk 8  \n",
      "977                      Produk 9  \n",
      "980                     Produk 10  \n"
     ]
    },
    {
     "name": "stderr",
     "output_type": "stream",
     "text": [
      "C:\\Users\\alfar\\AppData\\Local\\Temp\\ipykernel_6016\\1085028551.py:11: FutureWarning: A value is trying to be set on a copy of a DataFrame or Series through chained assignment using an inplace method.\n",
      "The behavior will change in pandas 3.0. This inplace method will never work because the intermediate object on which we are setting values always behaves as a copy.\n",
      "\n",
      "For example, when doing 'df[col].method(value, inplace=True)', try using 'df.method({col: value}, inplace=True)' or df[col] = df[col].method(value) instead, to perform the operation inplace on the original object.\n",
      "\n",
      "\n",
      "  final_merged['product_category_name'].fillna(final_merged['product_id'].map(product_map), inplace=True)\n",
      "C:\\Users\\alfar\\AppData\\Local\\Temp\\ipykernel_6016\\1085028551.py:12: FutureWarning: A value is trying to be set on a copy of a DataFrame or Series through chained assignment using an inplace method.\n",
      "The behavior will change in pandas 3.0. This inplace method will never work because the intermediate object on which we are setting values always behaves as a copy.\n",
      "\n",
      "For example, when doing 'df[col].method(value, inplace=True)', try using 'df.method({col: value}, inplace=True)' or df[col] = df[col].method(value) instead, to perform the operation inplace on the original object.\n",
      "\n",
      "\n",
      "  final_merged['product_category_name_english'].fillna(final_merged['product_id'].map(product_map), inplace=True)\n"
     ]
    }
   ],
   "source": [
    "# Menyimpan salinan sebelum perubahan\n",
    "before_change = final_merged.copy()\n",
    "\n",
    "# Identifikasi product_id yang memiliki missing value\n",
    "missing_product_ids = final_merged[final_merged['product_category_name'].isnull()]['product_id'].unique()\n",
    "\n",
    "# Membuat peta untuk product_id yang unik yang memiliki missing value\n",
    "product_map = {product_id: f'Produk {i + 1}' for i, product_id in enumerate(missing_product_ids)}\n",
    "\n",
    "# Ganti missing value berdasarkan peta yang telah dibuat\n",
    "final_merged['product_category_name'].fillna(final_merged['product_id'].map(product_map), inplace=True)\n",
    "final_merged['product_category_name_english'].fillna(final_merged['product_id'].map(product_map), inplace=True)\n",
    "\n",
    "# Menampilkan perubahan\n",
    "changed_entries = final_merged[\n",
    "    (before_change['product_category_name'].isnull()) | \n",
    "    (before_change['product_category_name_english'].isnull())\n",
    "]\n",
    "\n",
    "# Menampilkan data sebelum dan sesudah perubahan\n",
    "print(\"Data sebelum perubahan:\")\n",
    "print(before_change[before_change['product_category_name'].isnull() | before_change['product_category_name_english'].isnull()].head(10))\n",
    "\n",
    "print(\"\\nData setelah perubahan:\")\n",
    "print(changed_entries[['product_id', 'product_category_name', 'product_category_name_english']].head(10))\n"
   ]
  },
  {
   "cell_type": "code",
   "execution_count": 12,
   "metadata": {},
   "outputs": [
    {
     "name": "stdout",
     "output_type": "stream",
     "text": [
      "CSV baru telah dibuat: filled_data.csv\n"
     ]
    }
   ],
   "source": [
    "# Menyimpan hasil yang sudah diperbarui ke file CSV baru\n",
    "final_merged.to_csv('dashboard/filled_data.csv', index=False)\n",
    "\n",
    "print(\"CSV baru telah dibuat: filled_data.csv\")\n"
   ]
  },
  {
   "cell_type": "code",
   "execution_count": 13,
   "metadata": {},
   "outputs": [
    {
     "name": "stdout",
     "output_type": "stream",
     "text": [
      "The latest 'Produk (number)' is: Produk 605\n"
     ]
    },
    {
     "name": "stderr",
     "output_type": "stream",
     "text": [
      "C:\\Users\\alfar\\AppData\\Local\\Temp\\ipykernel_6016\\4234745696.py:17: SettingWithCopyWarning: \n",
      "A value is trying to be set on a copy of a slice from a DataFrame.\n",
      "Try using .loc[row_indexer,col_indexer] = value instead\n",
      "\n",
      "See the caveats in the documentation: https://pandas.pydata.org/pandas-docs/stable/user_guide/indexing.html#returning-a-view-versus-a-copy\n",
      "  produk_rows['product_number'] = produk_rows['product_category_name'].apply(extract_produk_number)\n"
     ]
    }
   ],
   "source": [
    "df = pd.read_csv('dashboard/filled_data.csv')\n",
    "\n",
    "# Menghilangkan spasi di awal/akhir dan mengisi nilai NaN dengan string kosong\n",
    "df['product_category_name'] = df['product_category_name'].str.strip().fillna('')\n",
    "\n",
    "# Filter baris yang memiliki \"Produk (number)\" di kolom product_category_name\n",
    "produk_rows = df[df['product_category_name'].str.contains(r'Produk \\d+', na=False)]\n",
    "\n",
    "# Ekstrak angka dari \"Produk (number)\"\n",
    "def extract_produk_number(value):\n",
    "    match = re.search(r'Produk (\\d+)', value)\n",
    "    if match:\n",
    "        return int(match.group(1))\n",
    "    return None\n",
    "\n",
    "# Terapkan fungsi ekstrak untuk mendapatkan nomor produk\n",
    "produk_rows['product_number'] = produk_rows['product_category_name'].apply(extract_produk_number)\n",
    "\n",
    "# Mencari angka terbesar\n",
    "max_produk_number = produk_rows['product_number'].max()\n",
    "\n",
    "if pd.isna(max_produk_number):\n",
    "    print(\"No 'Produk (number)' found.\")\n",
    "else:\n",
    "    print(f\"The latest 'Produk (number)' is: Produk {max_produk_number}\")"
   ]
  },
  {
   "cell_type": "markdown",
   "metadata": {
    "id": "Q_5ejIqckiSP"
   },
   "source": [
    "**Insight:**\n",
    "- Menghilangkan missing value dengan cara mengisi yang kosong dengan nama \"Produk + Angka\", contoh missing value pertama dinamakan Produk 1, dsb.\n",
    "- Membuat CSV baru bernama filled_data.csv\n",
    "- Produk terakhir adalah \"Produk 605\" yang mengindikasi ada sebanyak 605 produk yang tidak mempunyai nama/kategori"
   ]
  },
  {
   "cell_type": "markdown",
   "metadata": {
    "id": "gp-Y6wU38DC1"
   },
   "source": [
    "## Exploratory Data Analysis (EDA)"
   ]
  },
  {
   "cell_type": "markdown",
   "metadata": {},
   "source": [
    "### Pertanyaan EDA\n",
    "- Produk apa yang paling mahal?\n",
    "- Apakah harga produk yang tinggi cenderung mendapat ulasan yang baik atau sebaliknya?\n",
    "- Analisis produk yang sering muncul"
   ]
  },
  {
   "cell_type": "markdown",
   "metadata": {
    "id": "MW7WF2kr8DC1"
   },
   "source": [
    "### Explore kolom price"
   ]
  },
  {
   "cell_type": "code",
   "execution_count": 14,
   "metadata": {},
   "outputs": [],
   "source": [
    "df = pd.read_csv('dashboard/filled_data.csv')"
   ]
  },
  {
   "cell_type": "code",
   "execution_count": 15,
   "metadata": {},
   "outputs": [
    {
     "name": "stdout",
     "output_type": "stream",
     "text": [
      "Barang dengan harga termahal:\n",
      "review_id                        e2fbd9f0ef7b724c7ecb351601a857e7\n",
      "order_id                         0812eb902a67711a1cb742b3cdaa65ae\n",
      "order_item_id                                                   1\n",
      "product_id                       489ae2aa008f021502940f251d4cce7f\n",
      "review_score                                                    5\n",
      "shipping_limit_date                           2017-02-16 20:37:36\n",
      "price                                                      6735.0\n",
      "product_category_name                       utilidades_domesticas\n",
      "product_category_name_english                          housewares\n",
      "Name: 55854, dtype: object\n"
     ]
    }
   ],
   "source": [
    "# Mencari barang dengan harga termahal\n",
    "produk_termahal = df.loc[df['price'].idxmax()]\n",
    "\n",
    "# Menampilkan hasil\n",
    "print(\"Barang dengan harga termahal:\")\n",
    "print(produk_termahal)"
   ]
  },
  {
   "cell_type": "code",
   "execution_count": 16,
   "metadata": {
    "id": "e9CQCZjk8DC2"
   },
   "outputs": [
    {
     "name": "stderr",
     "output_type": "stream",
     "text": [
      "C:\\Users\\alfar\\AppData\\Local\\Temp\\ipykernel_6016\\837847670.py:10: FutureWarning: The default of observed=False is deprecated and will be changed to True in a future version of pandas. Pass observed=False to retain current behavior or observed=True to adopt the future default and silence this warning.\n",
      "  review_stats = df.groupby(['price_range', 'review_score']).size().unstack(fill_value=0)\n"
     ]
    },
    {
     "name": "stdout",
     "output_type": "stream",
     "text": [
      "Jumlah produk berdasarkan rentang harga dan skor ulasan:\n",
      "review_score      1     2     3      4      5\n",
      "price_range                                  \n",
      "0-1000        14089  3847  9386  21169  63046\n",
      "1000-2000       124    24    35    123    408\n",
      "2000-3000        21     2     2     17     55\n",
      "3000-4000         1     1     0      4     10\n",
      "4000-5000         0     0     0      2      4\n",
      "5000-6000         0     0     0      0      0\n",
      "6000-7000         0     0     0      0      2\n",
      "7000-8000         0     0     0      0      0\n",
      "8000-9000         0     0     0      0      0\n",
      "9000-10000        0     0     0      0      0\n"
     ]
    },
    {
     "data": {
      "image/png": "[encoded data removed]",
      "text/plain": [
       "<Figure size 1000x600 with 1 Axes>"
      ]
     },
     "metadata": {},
     "output_type": "display_data"
    }
   ],
   "source": [
    "# Menentukan rentang harga\n",
    "bins = [0, 1000, 2000, 3000, 4000, 5000, 6000, 7000, 8000, 9000, 10000]\n",
    "labels = ['0-1000', '1000-2000', '2000-3000', '3000-4000', '4000-5000', \n",
    "          '5000-6000', '6000-7000', '7000-8000', '8000-9000', '9000-10000']\n",
    "\n",
    "# Membuat kolom baru dengan rentang harga\n",
    "df['price_range'] = pd.cut(df['price'], bins=bins, labels=labels, include_lowest=True)\n",
    "\n",
    "# Menghitung jumlah produk dengan berbagai skor ulasan di setiap rentang harga\n",
    "review_stats = df.groupby(['price_range', 'review_score']).size().unstack(fill_value=0)\n",
    "\n",
    "# Menampilkan statistik jumlah produk di setiap rentang harga dan skor ulasan\n",
    "print(\"Jumlah produk berdasarkan rentang harga dan skor ulasan:\")\n",
    "print(review_stats)\n",
    "\n",
    "# Visualisasi hubungan harga dan skor ulasan menggunakan boxplot\n",
    "plt.figure(figsize=(10, 6))\n",
    "sns.boxplot(x='review_score', y='price', data=df, showfliers=False)\n",
    "plt.title('Hubungan antara Harga dan Skor Ulasan')\n",
    "plt.xlabel('Skor Ulasan')\n",
    "plt.ylabel('Harga')\n",
    "plt.show()"
   ]
  },
  {
   "cell_type": "code",
   "execution_count": 17,
   "metadata": {},
   "outputs": [
    {
     "name": "stdout",
     "output_type": "stream",
     "text": [
      "  price_range  review_score\n",
      "0      0-1000      4.033156\n",
      "1   1000-2000      3.935754\n",
      "2   2000-3000      3.855670\n",
      "3   3000-4000      4.312500\n",
      "4   4000-5000      4.666667\n",
      "5   5000-6000           NaN\n",
      "6   6000-7000      5.000000\n",
      "7   7000-8000           NaN\n",
      "8   8000-9000           NaN\n",
      "9  9000-10000           NaN\n"
     ]
    },
    {
     "name": "stderr",
     "output_type": "stream",
     "text": [
      "C:\\Users\\alfar\\AppData\\Local\\Temp\\ipykernel_6016\\2409700915.py:9: FutureWarning: The default of observed=False is deprecated and will be changed to True in a future version of pandas. Pass observed=False to retain current behavior or observed=True to adopt the future default and silence this warning.\n",
      "  average_reviews = df.groupby('price_range')['review_score'].mean().reset_index()\n"
     ]
    }
   ],
   "source": [
    "# Menentukan rentang harga\n",
    "bins = [0, 1000, 2000, 3000, 4000, 5000, 6000, 7000, 8000, 9000, 10000]\n",
    "labels = ['0-1000', '1000-2000', '2000-3000', '3000-4000', '4000-5000', '5000-6000', '6000-7000', '7000-8000', '8000-9000', '9000-10000']\n",
    "\n",
    "# Menambahkan kolom rentang harga ke DataFrame\n",
    "df['price_range'] = pd.cut(df['price'], bins=bins, labels=labels, right=False)\n",
    "\n",
    "# Menghitung rata-rata skor ulasan per rentang harga\n",
    "average_reviews = df.groupby('price_range')['review_score'].mean().reset_index()\n",
    "\n",
    "# Menampilkan hasil\n",
    "print(average_reviews)"
   ]
  },
  {
   "cell_type": "markdown",
   "metadata": {
    "id": "th_Lzl2Fkj9O"
   },
   "source": [
    "**Insight:**\n",
    "- Sebagian besar produk (lebih dari 100 ribu produk) berada dalam rentang harga 0-1000. Ini menunjukkan bahwa produk dengan harga rendah mendominasi dalam dataset.\n",
    "- Meskipun jumlah produk di rentang harga lebih tinggi jauh lebih sedikit, skor ulasannya secara umum cenderung lebih positif dibandingkan produk dengan harga lebih rendah.\n"
   ]
  },
  {
   "cell_type": "markdown",
   "metadata": {
    "id": "zsyZjqak8DC2"
   },
   "source": [
    "## Visualization & Explanatory Analysis"
   ]
  },
  {
   "cell_type": "markdown",
   "metadata": {
    "id": "HZxOiQ6n8DC2"
   },
   "source": [
    "### Pertanyaan 1: Kategori produk mana yang memiliki rating tertinggi yang memiliki minimal 100 pesanan"
   ]
  },
  {
   "cell_type": "code",
   "execution_count": 18,
   "metadata": {
    "id": "1swJUdAD8DC2"
   },
   "outputs": [
    {
     "name": "stdout",
     "output_type": "stream",
     "text": [
      "Kategori produk dengan rating tertinggi:\n",
      "Nama Kategori: health_beauty\n",
      "Rating Tertinggi: 4.14\n",
      "Jumlah Pesanan: 9645\n"
     ]
    }
   ],
   "source": [
    "df = pd.read_csv('dashboard/filled_data.csv')\n",
    "\n",
    "# Mengubah kolom 'shipping_limit_date' menjadi datetime\n",
    "df['shipping_limit_date'] = pd.to_datetime(df['shipping_limit_date'])\n",
    "\n",
    "# Menghitung jumlah pesanan berdasarkan product_id dan order_item_id\n",
    "jumlah_penjualan_per_produk = df.groupby(['product_id', 'product_category_name_english']).size().reset_index(name='jumlah_penjualan')\n",
    "\n",
    "# Menghitung total pendapatan per kategori\n",
    "jumlah_pendapatan_per_produk = df.groupby(['product_id', 'product_category_name_english'])['price'].sum().reset_index(name='total_pendapatan')\n",
    "\n",
    "# Menghitung jumlah pesanan dan total pendapatan per kategori\n",
    "jumlah_penjualan_per_kategori = jumlah_penjualan_per_produk.groupby('product_category_name_english')['jumlah_penjualan'].sum().reset_index()\n",
    "jumlah_pendapatan_per_kategori = jumlah_pendapatan_per_produk.groupby('product_category_name_english')['total_pendapatan'].sum().reset_index()\n",
    "\n",
    "# Menggabungkan jumlah penjualan dengan total pendapatan\n",
    "ringkasan_kategori = pd.merge(jumlah_penjualan_per_kategori, jumlah_pendapatan_per_kategori, on='product_category_name_english')\n",
    "\n",
    "# Menghitung rata-rata skor ulasan per kategori produk\n",
    "rata_rata_rating_per_kategori = df.groupby('product_category_name_english')['review_score'].mean().reset_index()\n",
    "\n",
    "# Menggabungkan rata-rata rating dengan ringkasan kategori\n",
    "ringkasan_kategori = pd.merge(ringkasan_kategori, rata_rata_rating_per_kategori, on='product_category_name_english')\n",
    "\n",
    "# Membuat kolom Recency (waktu sejak pesanan terakhir)\n",
    "tanggal_terakhir = df['shipping_limit_date'].max()\n",
    "df['recency'] = (tanggal_terakhir - df['shipping_limit_date']).dt.days\n",
    "\n",
    "# Menghitung Recency, Frequency, dan Monetary\n",
    "recency_per_kategori = df.groupby('product_category_name_english')['recency'].min().reset_index()\n",
    "frequency_per_kategori = jumlah_penjualan_per_kategori.groupby('product_category_name_english')['jumlah_penjualan'].sum().reset_index()\n",
    "monetary_per_kategori = jumlah_pendapatan_per_kategori.groupby('product_category_name_english')['total_pendapatan'].sum().reset_index()\n",
    "\n",
    "# Menggabungkan semua RFM\n",
    "rfm_summary = pd.merge(recency_per_kategori, frequency_per_kategori, on='product_category_name_english')\n",
    "rfm_summary = pd.merge(rfm_summary, monetary_per_kategori, on='product_category_name_english')\n",
    "\n",
    "# Menambahkan rating untuk RFM\n",
    "rfm_summary = pd.merge(rfm_summary, rata_rata_rating_per_kategori, on='product_category_name_english')\n",
    "\n",
    "# Menghitung RFM Score\n",
    "rfm_summary['RFM_Score'] = rfm_summary['recency'] * -1 + rfm_summary['jumlah_penjualan'] + rfm_summary['total_pendapatan']\n",
    "\n",
    "# Menghitung ambang batas berdasarkan 5% dari total baris\n",
    "threshold = int(len(df) * 0.05)\n",
    "\n",
    "# Filter kategori dengan lebih dari ambang batas\n",
    "kategori_terfilter = rfm_summary[rfm_summary['jumlah_penjualan'] > threshold]\n",
    "\n",
    "# Pastikan ada kategori yang terfilter sebelum melanjutkan\n",
    "if not kategori_terfilter.empty:\n",
    "    # Menemukan kategori dengan rating tertinggi dari hasil filter\n",
    "    kategori_rating_tertinggi = kategori_terfilter.loc[kategori_terfilter['review_score'].idxmax()]\n",
    "\n",
    "    # Menampilkan hasil\n",
    "    print(\"Kategori produk dengan rating tertinggi:\")\n",
    "    print(f\"Nama Kategori: {kategori_rating_tertinggi['product_category_name_english']}\")\n",
    "    print(f\"Rating Tertinggi: {kategori_rating_tertinggi['review_score']:.2f}\")\n",
    "    print(f\"Jumlah Pesanan: {kategori_rating_tertinggi['jumlah_penjualan']}\")\n",
    "else:\n",
    "    print(\"Tidak ada kategori yang memenuhi kriteria dengan lebih dari ambang batas 5% dari total pesanan.\")"
   ]
  },
  {
   "cell_type": "code",
   "execution_count": 19,
   "metadata": {},
   "outputs": [
    {
     "data": {
      "image/png": "[encoded data removed]",
      "text/plain": [
       "<Figure size 1200x600 with 1 Axes>"
      ]
     },
     "metadata": {},
     "output_type": "display_data"
    }
   ],
   "source": [
    "# Membaca dataset\n",
    "df = pd.read_csv('dashboard/filled_data.csv')\n",
    "\n",
    "# Menghitung rata-rata skor ulasan per kategori produk\n",
    "rata_rata_rating_per_kategori = df.groupby('product_category_name_english')['review_score'].mean().reset_index()\n",
    "\n",
    "# Menghitung jumlah produk yang terjual per kategori\n",
    "jumlah_penjualan_per_produk = df.groupby(['product_id', 'product_category_name_english']).size().reset_index(name='jumlah_penjualan')\n",
    "\n",
    "# Menghitung jumlah pesanan dan total pendapatan per kategori\n",
    "jumlah_penjualan_per_kategori = jumlah_penjualan_per_produk.groupby('product_category_name_english')['jumlah_penjualan'].sum().reset_index()\n",
    "jumlah_pendapatan_per_kategori = df.groupby('product_category_name_english')['price'].sum().reset_index(name='total_pendapatan')\n",
    "\n",
    "# Menggabungkan jumlah penjualan dengan total pendapatan\n",
    "ringkasan_kategori = pd.merge(jumlah_penjualan_per_kategori, jumlah_pendapatan_per_kategori, on='product_category_name_english')\n",
    "\n",
    "# Menggabungkan rata-rata rating dengan ringkasan kategori\n",
    "ringkasan_kategori = pd.merge(ringkasan_kategori, rata_rata_rating_per_kategori, on='product_category_name_english')\n",
    "\n",
    "# Menghitung ambang batas berdasarkan 5% dari total baris\n",
    "threshold = int(len(df) * 0.05)\n",
    "\n",
    "# Filter kategori dengan lebih dari ambang batas\n",
    "kategori_terfilter = ringkasan_kategori[ringkasan_kategori['jumlah_penjualan'] > threshold]\n",
    "\n",
    "# Menampilkan 10 kategori dengan penjualan dan rating tertinggi\n",
    "kategori_terfilter = kategori_terfilter.sort_values(by=['jumlah_penjualan', 'review_score'], ascending=False).head(10)\n",
    "\n",
    "# Membuat kategori rating\n",
    "def categorize_rating(rating):\n",
    "    if rating < 3.90:\n",
    "        return '< 3.90'\n",
    "    elif 3.90 <= rating < 4.00:\n",
    "        return '3.90 - 4.00'\n",
    "    elif 4.00 <= rating < 4.10:\n",
    "        return '4.00 - 4.10'\n",
    "    elif 4.10 <= rating < 4.20:\n",
    "        return '4.10 - 4.20'\n",
    "    elif 4.20 <= rating < 4.30:\n",
    "        return '4.20 - 4.30'\n",
    "    else:\n",
    "        return '>= 4.30'\n",
    "\n",
    "# Menerapkan fungsi kategori rating\n",
    "kategori_terfilter['rating_category'] = kategori_terfilter['review_score'].apply(categorize_rating)\n",
    "\n",
    "# Visualisasi 1: Grafik Batang Kategori Produk\n",
    "plt.figure(figsize=(12, 6))\n",
    "sns.barplot(data=kategori_terfilter, \n",
    "             x='jumlah_penjualan', \n",
    "             y='product_category_name_english', \n",
    "             hue='rating_category',  # Menggunakan kategori rating untuk hue\n",
    "             palette='viridis')\n",
    "\n",
    "plt.title('Kategori Produk dengan Penjualan dan Rating Tertinggi (Minimal 5% dari Total Pesanan)')\n",
    "plt.xlabel('Jumlah Penjualan')\n",
    "plt.ylabel('Kategori Produk')\n",
    "plt.legend(title='Kategori Rating', bbox_to_anchor=(1.10, 1), loc='upper left')\n",
    "plt.show()"
   ]
  },
  {
   "cell_type": "markdown",
   "metadata": {
    "id": "DgHI7CiU8DC2"
   },
   "source": [
    "### Pertanyaan 2: Kategori produk apa saja yang memiliki penjualan terendah\n"
   ]
  },
  {
   "cell_type": "code",
   "execution_count": 20,
   "metadata": {
    "id": "Go0lCsvO8DC2"
   },
   "outputs": [
    {
     "name": "stdout",
     "output_type": "stream",
     "text": [
      "Produk dengan penjualan terendah (kategori terdefinisi):\n",
      "Nama Kategori: security_and_services, Jumlah Penjualan: 2, Harga Rata-rata: 141.64, Rating Rata-rata: 2.5\n",
      "Nama Kategori: fashion_childrens_clothes, Jumlah Penjualan: 8, Harga Rata-rata: 71.23, Rating Rata-rata: 4.5\n",
      "Nama Kategori: la_cuisine, Jumlah Penjualan: 13, Harga Rata-rata: 147.54, Rating Rata-rata: 4.0\n",
      "Nama Kategori: cds_dvds_musicals, Jumlah Penjualan: 14, Harga Rata-rata: 52.14, Rating Rata-rata: 4.6\n",
      "Nama Kategori: arts_and_craftmanship, Jumlah Penjualan: 24, Harga Rata-rata: 75.58, Rating Rata-rata: 4.1\n",
      "Nama Kategori: home_comfort_2, Jumlah Penjualan: 27, Harga Rata-rata: 26.72, Rating Rata-rata: 3.6\n",
      "Nama Kategori: fashion_sport, Jumlah Penjualan: 31, Harga Rata-rata: 69.18, Rating Rata-rata: 4.3\n",
      "Nama Kategori: flowers, Jumlah Penjualan: 31, Harga Rata-rata: 32.27, Rating Rata-rata: 4.4\n",
      "Nama Kategori: furniture_mattress_and_upholstery, Jumlah Penjualan: 38, Harga Rata-rata: 114.95, Rating Rata-rata: 3.8\n",
      "Nama Kategori: music, Jumlah Penjualan: 38, Harga Rata-rata: 158.80, Rating Rata-rata: 4.2\n",
      "\n",
      "Produk dengan penjualan terendah (tanpa kategori):\n",
      "Nama Kategori: Produk 1, Jumlah Penjualan: 1, Harga Rata-rata: 13.30, Rating Rata-rata: 5.0\n",
      "Nama Kategori: Produk 101, Jumlah Penjualan: 1, Harga Rata-rata: 16.90, Rating Rata-rata: 3.0\n",
      "Nama Kategori: Produk 102, Jumlah Penjualan: 1, Harga Rata-rata: 116.90, Rating Rata-rata: 5.0\n",
      "Nama Kategori: Produk 104, Jumlah Penjualan: 1, Harga Rata-rata: 336.00, Rating Rata-rata: 4.0\n",
      "Nama Kategori: Produk 105, Jumlah Penjualan: 1, Harga Rata-rata: 13.45, Rating Rata-rata: 4.0\n",
      "Nama Kategori: Produk 106, Jumlah Penjualan: 1, Harga Rata-rata: 40.00, Rating Rata-rata: 5.0\n",
      "Nama Kategori: Produk 108, Jumlah Penjualan: 1, Harga Rata-rata: 89.90, Rating Rata-rata: 5.0\n",
      "Nama Kategori: Produk 113, Jumlah Penjualan: 1, Harga Rata-rata: 32.90, Rating Rata-rata: 4.0\n",
      "Nama Kategori: Produk 115, Jumlah Penjualan: 1, Harga Rata-rata: 14.90, Rating Rata-rata: 5.0\n",
      "Nama Kategori: Produk 119, Jumlah Penjualan: 1, Harga Rata-rata: 25.84, Rating Rata-rata: 5.0\n"
     ]
    }
   ],
   "source": [
    "df = pd.read_csv('dashboard/filled_data.csv')\n",
    "\n",
    "# Menghitung jumlah produk yang terjual per kategori\n",
    "jumlah_penjualan_produk = df.groupby('product_category_name_english').size().reset_index(name='jumlah_penjualan')\n",
    "\n",
    "# Menambahkan kolom harga dan rating dengan menghitung rata-rata per kategori\n",
    "produk_terjual = df.groupby('product_category_name_english').agg({\n",
    "    'price': 'mean',  # Mengambil harga rata-rata\n",
    "    'review_score': 'mean'  # Mengambil rating rata-rata\n",
    "}).reset_index()\n",
    "\n",
    "# Menggabungkan data penjualan produk dengan informasi harga dan rating\n",
    "jumlah_penjualan_produk = pd.merge(jumlah_penjualan_produk, produk_terjual, on='product_category_name_english', how='left')\n",
    "\n",
    "# Menentukan jumlah produk terendah yang ingin ditampilkan\n",
    "jumlah_produk_terendah = 10  # Misalnya, menampilkan 10 kategori dengan penjualan terendah\n",
    "\n",
    "# Mengidentifikasi kategori yang terdefinisi (tidak dalam format \"Produk + angka\")\n",
    "kategori_terdefinisi = jumlah_penjualan_produk[\n",
    "    ~jumlah_penjualan_produk['product_category_name_english'].str.contains(r'Produk \\d+', regex=True)\n",
    "]\n",
    "\n",
    "# Menemukan kategori dengan penjualan terendah yang terdefinisi\n",
    "produk_berkategori = kategori_terdefinisi.nsmallest(jumlah_produk_terendah, 'jumlah_penjualan')\n",
    "\n",
    "# Menemukan kategori yang tidak terdefinisi\n",
    "produk_tidak_berkategori = jumlah_penjualan_produk[\n",
    "    jumlah_penjualan_produk['product_category_name_english'].str.contains(r'Produk \\d+', regex=True)\n",
    "]\n",
    "\n",
    "# Mengambil sejumlah produk terendah untuk kategori tak terdefinisi\n",
    "produk_tidak_berkategori = produk_tidak_berkategori.nsmallest(jumlah_produk_terendah, 'jumlah_penjualan')\n",
    "\n",
    "# Menampilkan hasil untuk produk berkategori\n",
    "print(\"Produk dengan penjualan terendah (kategori terdefinisi):\")\n",
    "if not produk_berkategori.empty:\n",
    "    for index, row in produk_berkategori.iterrows():\n",
    "        print(f\"Nama Kategori: {row['product_category_name_english']}, \"\n",
    "              f\"Jumlah Penjualan: {row['jumlah_penjualan']}, Harga Rata-rata: {row['price']:.2f}, Rating Rata-rata: {row['review_score']:.1f}\")\n",
    "else:\n",
    "    print(\"Tidak ada produk dengan penjualan terendah yang terdefinisi.\")\n",
    "\n",
    "# Menampilkan hasil untuk produk tanpa kategori\n",
    "print(\"\\nProduk dengan penjualan terendah (tanpa kategori):\")\n",
    "if not produk_tidak_berkategori.empty:\n",
    "    for index, row in produk_tidak_berkategori.iterrows():\n",
    "        print(f\"Nama Kategori: {row['product_category_name_english']}, \"\n",
    "              f\"Jumlah Penjualan: {row['jumlah_penjualan']}, Harga Rata-rata: {row['price']:.2f}, Rating Rata-rata: {row['review_score']:.1f}\")\n",
    "else:\n",
    "    print(\"Tidak ada produk dengan penjualan terendah yang tanpa kategori.\")"
   ]
  },
  {
   "cell_type": "code",
   "execution_count": 21,
   "metadata": {},
   "outputs": [
    {
     "name": "stderr",
     "output_type": "stream",
     "text": [
      "C:\\Users\\alfar\\AppData\\Local\\Temp\\ipykernel_6016\\2043251682.py:6: FutureWarning: \n",
      "\n",
      "Passing `palette` without assigning `hue` is deprecated and will be removed in v0.14.0. Assign the `y` variable to `hue` and set `legend=False` for the same effect.\n",
      "\n",
      "  sns.barplot(data=produk_berkategori,\n"
     ]
    },
    {
     "data": {
      "image/png": "[encoded data removed]",
      "text/plain": [
       "<Figure size 1200x600 with 1 Axes>"
      ]
     },
     "metadata": {},
     "output_type": "display_data"
    },
    {
     "name": "stderr",
     "output_type": "stream",
     "text": [
      "C:\\Users\\alfar\\AppData\\Local\\Temp\\ipykernel_6016\\2043251682.py:18: FutureWarning: \n",
      "\n",
      "Passing `palette` without assigning `hue` is deprecated and will be removed in v0.14.0. Assign the `y` variable to `hue` and set `legend=False` for the same effect.\n",
      "\n",
      "  sns.barplot(data=produk_tidak_berkategori,\n"
     ]
    },
    {
     "data": {
      "image/png": "[encoded data removed]",
      "text/plain": [
       "<Figure size 1200x600 with 1 Axes>"
      ]
     },
     "metadata": {},
     "output_type": "display_data"
    }
   ],
   "source": [
    "# Set the visual style\n",
    "sns.set(style=\"whitegrid\")\n",
    "\n",
    "# Visualisasi untuk produk berkategori\n",
    "plt.figure(figsize=(12, 6))\n",
    "sns.barplot(data=produk_berkategori, \n",
    "            x='jumlah_penjualan', \n",
    "            y='product_category_name_english', \n",
    "            palette='Blues_d')\n",
    "\n",
    "plt.title('Produk dengan Penjualan Terendah (Kategori Terdefinisi)')\n",
    "plt.xlabel('Jumlah Penjualan')\n",
    "plt.ylabel('Kategori Produk')\n",
    "plt.show()\n",
    "\n",
    "# Visualisasi untuk produk tanpa kategori\n",
    "plt.figure(figsize=(12, 6))\n",
    "sns.barplot(data=produk_tidak_berkategori, \n",
    "            x='jumlah_penjualan', \n",
    "            y='product_category_name_english', \n",
    "            palette='Reds_d')\n",
    "\n",
    "plt.title('Produk dengan Penjualan Terendah (Tanpa Kategori)')\n",
    "plt.xlabel('Jumlah Penjualan')\n",
    "plt.ylabel('Kategori Produk')\n",
    "plt.show()"
   ]
  },
  {
   "cell_type": "markdown",
   "metadata": {
    "id": "_0-36BDLklRg"
   },
   "source": [
    "**Insight:**\n",
    "- Kategori produk \"health_beauty\" yang memiliki rating tinggi dan jumlah pesanan di atas 5% total pesanan menunjukkan bahwa ada keunggulan dalam segmen pasar tertentu. Kategori ini kemungkinan memenuhi kebutuhan dan keinginan konsumen dengan baik.\n",
    "- Dengan mengetahui kategori yang paling baik, perusahaan dapat menganalisis pesaing di kategori tersebut untuk memahami faktor-faktor yang berkontribusi pada kesuksesan dan rating tinggi produk.\n",
    "- Security and Services dan Fashion Children's Clothes memiliki penjualan terendah dengan masing-masing 2 dan 8 unit terjual. Hal ini mungkin menunjukkan bahwa kategori-kategori ini kurang diminati oleh konsumen.\n",
    "- Kategori dengan penjualan lebih tinggi, seperti Home Comfort 2 dan Music, menunjukkan bahwa produk dalam kategori ini mungkin lebih relevan atau lebih dipromosikan dengan baik, sehingga bisa menjadi area yang bisa dikembangkan lebih lanjut.\n",
    "- Meskipun produk dalam kategori seperti Arts and Craftsmanship dan Fashion Sports memiliki penjualan yang lebih baik, harga rata-rata mereka (sekitar 75-70) dan rating yang baik (4.1 dan 4.3) menunjukkan bahwa konsumen bersedia membayar lebih untuk kategori-kategori ini.\n",
    "- Kategori Security and Services memiliki harga rata-rata tinggi (141.64) tetapi rating yang rendah (2.5), yang menunjukkan adanya masalah dengan produk atau layanan yang ditawarkan di kategori ini.\n",
    "- Banyak produk yang tidak memiliki kategori terdefinisi penjualannya sangat rendah, masing-masing hanya terjual satu unit. Ini menunjukkan bahwa produk-produk ini mungkin tidak dipromosikan dengan baik, kurang diminati konsumen atau dikarenakan tidak mempunyai kategori spesifik sehingga hanya memiliki 1 pengelompokkan."
   ]
  },
  {
   "cell_type": "markdown",
   "metadata": {
    "id": "9y4VUsmcYNZ5"
   },
   "source": [
    "## Analisis Lanjutan (Opsional)"
   ]
  },
  {
   "cell_type": "code",
   "execution_count": null,
   "metadata": {
    "id": "iWhnzsJGYUCO"
   },
   "outputs": [],
   "source": []
  },
  {
   "cell_type": "markdown",
   "metadata": {
    "id": "_WeHlCeX8DC2"
   },
   "source": [
    "## Conclusion"
   ]
  },
  {
   "cell_type": "markdown",
   "metadata": {
    "id": "ZTcyR48Y8DC2"
   },
   "source": [
    "- Conclution pertanyaan 1\n",
    "\n",
    "Dari analisis yang dilakukan, termasuk penerapan RFM, kategori produk yang menunjukkan kombinasi terbaik antara rating dan jumlah penjualan adalah \"health_beauty\". Kategori ini tidak hanya memiliki rating tertinggi, tetapi juga volume penjualan yang signifikan. Oleh karena itu, fokus pada pengembangan produk dan strategi pemasaran dalam kategori ini dapat memberikan keuntungan jangka panjang dan meningkatkan loyalitas pelanggan.\n",
    "- Conclution pertanyaan 2\n",
    "\n",
    "Dari analisis di atas, dapat disimpulkan bahwa kategori produk dengan penjualan terendah yang terdefinisi adalah \"security_and_services\" dengan hanya 2 penjualan, sedangkan produk tanpa kategori terdefinisi memiliki beberapa produk dengan satu penjualan. Hal ini menunjukkan bahwa ada peluang untuk meningkatkan strategi pemasaran dan pengembangan produk dalam kategori yang terdefinisi, terutama \"security_and_services\", untuk menarik lebih banyak konsumen. Selain itu, perhatian juga perlu diberikan pada produk tanpa kategori untuk memberikan identitas yang lebih jelas dan menarik bagi pelanggan, serta dapat lebih mudah untuk dikelompokkan."
   ]
  },
  {
   "cell_type": "code",
   "execution_count": null,
   "metadata": {},
   "outputs": [],
   "source": []
  }
 ],
 "metadata": {
  "colab": {
   "provenance": []
  },
  "kernelspec": {
   "display_name": "Python 3 (ipykernel)",
   "language": "python",
   "name": "python3"
  },
  "language_info": {
   "codemirror_mode": {
    "name": "ipython",
    "version": 3
   },
   "file_extension": ".py",
   "mimetype": "text/x-python",
   "name": "python",
   "nbconvert_exporter": "python",
   "pygments_lexer": "ipython3",
   "version": "3.12.4"
  },
  "vscode": {
   "interpreter": {
    "hash": "972b3bf27e332e87b5379f2791f6ef9dfc79c71018c370b0d7423235e20fe4d7"
   }
  }
 },
 "nbformat": 4,
 "nbformat_minor": 4
}
